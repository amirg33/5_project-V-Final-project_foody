{
 "cells": [
  {
   "cell_type": "code",
   "execution_count": 1,
   "metadata": {},
   "outputs": [],
   "source": [
    "import recipe_matcher\n",
    "import pandas as pd\n",
    "import ast\n",
    "import utils\n",
    "import exploration"
   ]
  },
  {
   "cell_type": "code",
   "execution_count": 2,
   "metadata": {},
   "outputs": [],
   "source": [
    "\n",
    "df = pd.read_csv(\"../data/Processed/df_recipes_final.csv\")\n",
    "df.tags = df.tags.map(lambda x: ast.literal_eval(x))\n",
    "df.steps = df.steps.map(lambda x: ast.literal_eval(x))\n",
    "df.ingredients = df.ingredients.map(lambda x: ast.literal_eval(x))\n",
    "df.nutrition = df.nutrition.map(lambda x: ast.literal_eval(x))\n",
    "df.restrictions = df.restrictions.map(lambda x: ast.literal_eval(x))"
   ]
  },
  {
   "cell_type": "code",
   "execution_count": 4,
   "metadata": {},
   "outputs": [
    {
     "data": {
      "text/plain": [
       "Index(['name', 'recipe_id', 'minutes', 'tags', 'nutrition', 'n_steps', 'steps',\n",
       "       'description', 'ingredients', 'n_ingredients', 'average_rating',\n",
       "       'number_of_ratings', 'url', 'cooking_time', 'ingredient_group',\n",
       "       'weighted_rating', 'restrictions'],\n",
       "      dtype='object')"
      ]
     },
     "execution_count": 4,
     "metadata": {},
     "output_type": "execute_result"
    }
   ],
   "source": [
    "df.columns"
   ]
  },
  {
   "cell_type": "code",
   "execution_count": 7,
   "metadata": {},
   "outputs": [],
   "source": [
    "def split_dataframe_columns(df, columns_to_split):\n",
    "    \"\"\"\n",
    "    Splits specified columns from the original DataFrame into separate DataFrames, each with 'recipe_id'.\n",
    "    The specified columns and 'nutrition' column are dropped from the original DataFrame.\n",
    "\n",
    "    Parameters:\n",
    "    df (pandas.DataFrame): The original DataFrame.\n",
    "    columns_to_split (list): List of column names to split into separate DataFrames.\n",
    "\n",
    "    Returns:\n",
    "    dict: A dictionary containing the modified original DataFrame and new DataFrames for each specified column.\n",
    "    \"\"\"\n",
    "    new_dfs = {}\n",
    "\n",
    "    # Create new DataFrames for each specified column\n",
    "    for column in columns_to_split:\n",
    "        new_dfs[f\"df_{column}\"] = df[['recipe_id', column]].copy()\n",
    "\n",
    "    # Drop specified columns and 'nutrition' from the original DataFrame\n",
    "    df = df.drop(columns=columns_to_split + ['nutrition'])\n",
    "\n",
    "    # Add the modified original DataFrame to the dictionary\n",
    "    new_dfs['original_df'] = df\n",
    "\n",
    "    return new_dfs\n",
    "\n",
    "columns_to_extract = ['tags', 'steps', 'description']\n",
    "result_dfs = split_dataframe_columns(df, columns_to_extract)\n",
    "\n",
    "# Access the modified original DataFrame\n",
    "modified_df = result_dfs['original_df']\n",
    "\n",
    "# Access the new DataFrames\n",
    "df_tags = result_dfs['df_tags']\n",
    "df_steps = result_dfs['df_steps']\n",
    "df_description = result_dfs['df_description']"
   ]
  },
  {
   "cell_type": "code",
   "execution_count": 11,
   "metadata": {},
   "outputs": [
    {
     "data": {
      "text/html": [
       "<div>\n",
       "<style scoped>\n",
       "    .dataframe tbody tr th:only-of-type {\n",
       "        vertical-align: middle;\n",
       "    }\n",
       "\n",
       "    .dataframe tbody tr th {\n",
       "        vertical-align: top;\n",
       "    }\n",
       "\n",
       "    .dataframe thead th {\n",
       "        text-align: right;\n",
       "    }\n",
       "</style>\n",
       "<table border=\"1\" class=\"dataframe\">\n",
       "  <thead>\n",
       "    <tr style=\"text-align: right;\">\n",
       "      <th></th>\n",
       "      <th>recipe_id</th>\n",
       "      <th>description</th>\n",
       "    </tr>\n",
       "  </thead>\n",
       "  <tbody>\n",
       "    <tr>\n",
       "      <th>0</th>\n",
       "      <td>137739</td>\n",
       "      <td>autumn is my favorite time of year to cook! th...</td>\n",
       "    </tr>\n",
       "    <tr>\n",
       "      <th>1</th>\n",
       "      <td>31490</td>\n",
       "      <td>this recipe calls for the crust to be prebaked...</td>\n",
       "    </tr>\n",
       "    <tr>\n",
       "      <th>2</th>\n",
       "      <td>112140</td>\n",
       "      <td>this modified version of 'mom's' chili was a h...</td>\n",
       "    </tr>\n",
       "    <tr>\n",
       "      <th>3</th>\n",
       "      <td>59389</td>\n",
       "      <td>this is a super easy, great tasting, make ahea...</td>\n",
       "    </tr>\n",
       "    <tr>\n",
       "      <th>4</th>\n",
       "      <td>25274</td>\n",
       "      <td>my italian mil was thoroughly impressed by my ...</td>\n",
       "    </tr>\n",
       "    <tr>\n",
       "      <th>...</th>\n",
       "      <td>...</td>\n",
       "      <td>...</td>\n",
       "    </tr>\n",
       "    <tr>\n",
       "      <th>202060</th>\n",
       "      <td>188810</td>\n",
       "      <td>a wrap inspired by great cajun flavors</td>\n",
       "    </tr>\n",
       "    <tr>\n",
       "      <th>202061</th>\n",
       "      <td>486161</td>\n",
       "      <td>this is a delicious soup that i originally fou...</td>\n",
       "    </tr>\n",
       "    <tr>\n",
       "      <th>202062</th>\n",
       "      <td>493372</td>\n",
       "      <td>this spice mix will make your taste buds dance!</td>\n",
       "    </tr>\n",
       "    <tr>\n",
       "      <th>202063</th>\n",
       "      <td>298512</td>\n",
       "      <td>i've heard of the 'cookies by design' company,...</td>\n",
       "    </tr>\n",
       "    <tr>\n",
       "      <th>202064</th>\n",
       "      <td>298509</td>\n",
       "      <td>i've heard of the 'cookies by design' company,...</td>\n",
       "    </tr>\n",
       "  </tbody>\n",
       "</table>\n",
       "<p>202065 rows × 2 columns</p>\n",
       "</div>"
      ],
      "text/plain": [
       "        recipe_id                                        description\n",
       "0          137739  autumn is my favorite time of year to cook! th...\n",
       "1           31490  this recipe calls for the crust to be prebaked...\n",
       "2          112140  this modified version of 'mom's' chili was a h...\n",
       "3           59389  this is a super easy, great tasting, make ahea...\n",
       "4           25274  my italian mil was thoroughly impressed by my ...\n",
       "...           ...                                                ...\n",
       "202060     188810             a wrap inspired by great cajun flavors\n",
       "202061     486161  this is a delicious soup that i originally fou...\n",
       "202062     493372    this spice mix will make your taste buds dance!\n",
       "202063     298512  i've heard of the 'cookies by design' company,...\n",
       "202064     298509  i've heard of the 'cookies by design' company,...\n",
       "\n",
       "[202065 rows x 2 columns]"
      ]
     },
     "execution_count": 11,
     "metadata": {},
     "output_type": "execute_result"
    }
   ],
   "source": [
    "df_description"
   ]
  }
 ],
 "metadata": {
  "kernelspec": {
   "display_name": "streamlit",
   "language": "python",
   "name": "python3"
  },
  "language_info": {
   "codemirror_mode": {
    "name": "ipython",
    "version": 3
   },
   "file_extension": ".py",
   "mimetype": "text/x-python",
   "name": "python",
   "nbconvert_exporter": "python",
   "pygments_lexer": "ipython3",
   "version": "3.11.5"
  }
 },
 "nbformat": 4,
 "nbformat_minor": 2
}
