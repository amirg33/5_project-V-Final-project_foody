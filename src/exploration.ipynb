{
 "cells": [
  {
   "cell_type": "code",
   "execution_count": null,
   "metadata": {},
   "outputs": [],
   "source": [
    "import utils\n",
    "import cleaning\n",
    "import pandas as pd\n",
    "import ast\n",
    "import re\n"
   ]
  },
  {
   "cell_type": "code",
   "execution_count": null,
   "metadata": {},
   "outputs": [],
   "source": [
    "cleaning.recipes_ratings_merged_cleaned()\n",
    "df = pd.read_csv(\"../data/Processed/recipes with ratings.csv\")"
   ]
  },
  {
   "cell_type": "code",
   "execution_count": null,
   "metadata": {},
   "outputs": [],
   "source": [
    "df.sample(5)"
   ]
  },
  {
   "cell_type": "code",
   "execution_count": null,
   "metadata": {},
   "outputs": [],
   "source": [
    "# Check the first element of each column to determine if they are strings or lists\n",
    "first_tags = df['tags'].iloc[0]\n",
    "first_ingredients = df['ingredients'].iloc[0]\n",
    "first_nutrition = df['nutrition'].iloc[0]\n",
    "first_steps = df['steps'].iloc[0]\n",
    "\n",
    "# Print the type of the first element of each column\n",
    "types = {\n",
    "    'tags': type(first_tags),\n",
    "    'ingredients': type(first_ingredients),\n",
    "    'nutrition': type(first_nutrition),\n",
    "    'steps': type(first_steps)\n",
    "}\n",
    "\n",
    "# Display the types\n",
    "for column, typ in types.items():\n",
    "    print(f'The first element of the {column} column is of type: {typ}')\n",
    "\n",
    "# Convert the 'tags' column from string to list\n",
    "if isinstance(df['tags'].iloc[0], str):\n",
    "    df['tags'] = df['tags'].apply(lambda x: x.strip('[]').replace(\"'\", '').split(', '))\n",
    "\n",
    "# Convert the 'ingredients' column from string to list\n",
    "if isinstance(df['ingredients'].iloc[0], str):\n",
    "    df['ingredients'] = df['ingredients'].apply(lambda x: x.strip('[]').replace(\"'\", '').split(', '))\n",
    "\n",
    "# Convert the 'nutrition' column from string to list\n",
    "if isinstance(df['nutrition'].iloc[0], str):\n",
    "    df['nutrition'] = df['nutrition'].apply(lambda x: x.strip('[]').replace(\"'\", '').split(', '))\n",
    "\n",
    "# Convert the 'steps' column from string to list\n",
    "if isinstance(df['steps'].iloc[0], str):\n",
    "    df['steps'] = df['steps'].apply(lambda x: x.strip('[]').replace(\"'\", '').split(', '))"
   ]
  },
  {
   "cell_type": "code",
   "execution_count": null,
   "metadata": {},
   "outputs": [],
   "source": [
    "# Function to categorize time into intervals\n",
    "def categorize_time(minutes):\n",
    "    if minutes > 90:\n",
    "        return 'More than 1h 30min'\n",
    "    else:\n",
    "        interval = (minutes // 15) * 15\n",
    "        return f'About {interval} min' if interval != 0 else 'About 15 min'\n",
    "\n",
    "# Apply the function to create a new column\n",
    "df['cookking_time'] = df['minutes'].apply(categorize_time)\n",
    "df\n"
   ]
  },
  {
   "cell_type": "code",
   "execution_count": null,
   "metadata": {},
   "outputs": [],
   "source": [
    "nutrition_df = cleaning.create_nutrition_df(df, 'nutrition', 'recipe_id')\n"
   ]
  },
  {
   "cell_type": "code",
   "execution_count": null,
   "metadata": {},
   "outputs": [],
   "source": [
    "# Function to categorize number of ingredients into intervals\n",
    "def categorize_ingredients(n_ingredients):\n",
    "    if n_ingredients <= 5:\n",
    "        return '0-5'\n",
    "    elif 5 < n_ingredients <= 10:\n",
    "        return '5-10'\n",
    "    elif 10 < n_ingredients <= 20:\n",
    "        return '10-20'\n",
    "    elif 20 < n_ingredients <= 30:\n",
    "        return '20-30'\n",
    "    elif 30 < n_ingredients <= 40:\n",
    "        return '30-40'\n",
    "    else:\n",
    "        return '> 40'\n",
    "\n",
    "# Apply the function to create a new column\n",
    "df['ingredient_category'] = df['n_ingredients'].apply(categorize_ingredients)"
   ]
  },
  {
   "cell_type": "code",
   "execution_count": null,
   "metadata": {},
   "outputs": [],
   "source": [
    "def aggregate_unique_lists(df, column_name):\n",
    "    \"\"\"\n",
    "    Aggregates all the lists from a specified column into a single list of unique elements.\n",
    "\n",
    "    Parameters:\n",
    "    df (pd.DataFrame): DataFrame to process.\n",
    "    column_name (str): Name of the column containing lists or string representations of lists.\n",
    "\n",
    "    Returns:\n",
    "    list: A single list containing all unique elements from the lists in the specified column.\n",
    "    \"\"\"\n",
    "\n",
    "    unique_elements = set()\n",
    "    for item in df[column_name].dropna():\n",
    "        # Convert string representation of list to actual list if necessary\n",
    "        if isinstance(item, str):\n",
    "            try:\n",
    "                item = ast.literal_eval(item)\n",
    "            except ValueError:\n",
    "                continue  # Skip items that cannot be converted\n",
    "\n",
    "        # Check if the item is a list and add its elements to the set\n",
    "        if isinstance(item, list):\n",
    "            unique_elements.update(item)\n",
    "        else:\n",
    "            unique_elements.add(item)\n",
    "\n",
    "    return list(unique_elements)\n",
    "\n"
   ]
  },
  {
   "cell_type": "code",
   "execution_count": null,
   "metadata": {},
   "outputs": [],
   "source": [
    "# Calculate the median number of ratings across all recipes\n",
    "# This value serves as a threshold to differentiate between recipes with many vs few ratings\n",
    "m = df['number_of_ratings'].quantile(0.50)\n",
    "\n",
    "# Compute the mean average rating across all recipes\n",
    "# This represents the typical rating a recipe receives in the dataset\n",
    "C = df['average_rating'].mean()\n",
    "\n",
    "# Define a function to calculate the weighted rating for each recipe\n",
    "def weighted_rating(x, m=m, C=C):\n",
    "    v = x['number_of_ratings']  # Number of ratings for the recipe\n",
    "    R = x['average_rating']     # Average rating of the recipe\n",
    "    # Weighted rating formula: balances the recipe's average rating (R) with the mean rating (C)\n",
    "    return (v/(v+m) * R) + (m/(m+v) * C)\n",
    "\n",
    "# Apply the weighted rating formula to each recipe in the filtered DataFrame\n",
    "df['weighted_rating'] = df.apply(weighted_rating, axis=1)"
   ]
  },
  {
   "cell_type": "code",
   "execution_count": null,
   "metadata": {},
   "outputs": [],
   "source": [
    " # Call the ingredients function rom utils, in order to get all ingredients in a list. \n",
    "ingredients_list = utils.aggregate_unique_lists(df, 'ingredients')\n",
    "# Save the ingredients into a csv file for later usage\n",
    "ingredients_list.to_csv(\"../data/Processed/ingredients_list.csv\")\n",
    "\n",
    "# Creating a nutrition DataFrame by extracting and formatting nutrition data.\n",
    "nutrition_df = cleaning.create_nutrition_df(df, 'nutrition', 'recipe_id')\n",
    "nutrition_df.to_csv(\"../data/Processed/nutrition_df.csv\")\n"
   ]
  },
  {
   "cell_type": "code",
   "execution_count": null,
   "metadata": {},
   "outputs": [],
   "source": [
    "# Checking the count of restrictions in total for each recipe. As I want to clean a bit the dataframe and make it weight less, we want to keep the one that have at least 2 restrictions.\n",
    "\n",
    "restriction_counts = {0: 0, 1: 0, 2: 0, 3: 0, 4: 0, 5: 0}\n",
    "\n",
    "# Iterate over the dataframe and count the number of restrictions for each recipe\n",
    "for restrictions in df['restrictions']:\n",
    "    num_restrictions = len(restrictions)  # Get the number of restrictions for the recipe\n",
    "    if num_restrictions in restriction_counts:\n",
    "        restriction_counts[num_restrictions] += 1  # Update the count for this number of restrictions\n",
    "    else:\n",
    "        # For cases where the number of restrictions is more than 5\n",
    "        restriction_counts[num_restrictions] = 1\n",
    "\n",
    "# Display the counts\n",
    "restriction_counts"
   ]
  }
 ],
 "metadata": {
  "language_info": {
   "name": "python"
  }
 },
 "nbformat": 4,
 "nbformat_minor": 2
}
