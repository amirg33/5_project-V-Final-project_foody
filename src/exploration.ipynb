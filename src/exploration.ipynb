{
 "cells": [
  {
   "cell_type": "code",
   "execution_count": null,
   "metadata": {},
   "outputs": [],
   "source": [
    "import utils\n",
    "import cleaning\n",
    "import pandas as pd\n"
   ]
  },
  {
   "cell_type": "code",
   "execution_count": null,
   "metadata": {},
   "outputs": [],
   "source": [
    "cleaning.recipes_ratings_merged()\n",
    "df = pd.read_csv(\"../data/Processed/recipes with ratings.csv\")"
   ]
  },
  {
   "cell_type": "code",
   "execution_count": null,
   "metadata": {},
   "outputs": [],
   "source": [
    "df.sample(5)"
   ]
  },
  {
   "cell_type": "code",
   "execution_count": null,
   "metadata": {},
   "outputs": [],
   "source": [
    "# Check the first element of each column to determine if they are strings or lists\n",
    "first_tags = df['tags'].iloc[0]\n",
    "first_ingredients = df['ingredients'].iloc[0]\n",
    "first_nutrition = df['nutrition'].iloc[0]\n",
    "first_steps = df['steps'].iloc[0]\n",
    "\n",
    "# Print the type of the first element of each column\n",
    "types = {\n",
    "    'tags': type(first_tags),\n",
    "    'ingredients': type(first_ingredients),\n",
    "    'nutrition': type(first_nutrition),\n",
    "    'steps': type(first_steps)\n",
    "}\n",
    "\n",
    "# Display the types\n",
    "for column, typ in types.items():\n",
    "    print(f'The first element of the {column} column is of type: {typ}')\n",
    "\n",
    "# Convert the 'tags' column from string to list\n",
    "if isinstance(df['tags'].iloc[0], str):\n",
    "    df['tags'] = df['tags'].apply(lambda x: x.strip('[]').replace(\"'\", '').split(', '))\n",
    "\n",
    "# Convert the 'ingredients' column from string to list\n",
    "if isinstance(df['ingredients'].iloc[0], str):\n",
    "    df['ingredients'] = df['ingredients'].apply(lambda x: x.strip('[]').replace(\"'\", '').split(', '))\n",
    "\n",
    "# Convert the 'nutrition' column from string to list\n",
    "if isinstance(df['nutrition'].iloc[0], str):\n",
    "    df['nutrition'] = df['nutrition'].apply(lambda x: x.strip('[]').replace(\"'\", '').split(', '))\n",
    "\n",
    "# Convert the 'steps' column from string to list\n",
    "if isinstance(df['steps'].iloc[0], str):\n",
    "    df['steps'] = df['steps'].apply(lambda x: x.strip('[]').replace(\"'\", '').split(', '))"
   ]
  },
  {
   "cell_type": "code",
   "execution_count": null,
   "metadata": {},
   "outputs": [],
   "source": [
    "# Function to categorize time into intervals\n",
    "def categorize_time(minutes):\n",
    "    if minutes > 90:\n",
    "        return 'More than 1h 30min'\n",
    "    else:\n",
    "        interval = (minutes // 15) * 15\n",
    "        return f'About {interval} min' if interval != 0 else 'About 15 min'\n",
    "\n",
    "# Apply the function to create a new column\n",
    "df['cookking_time'] = df['minutes'].apply(categorize_time)\n",
    "df\n"
   ]
  }
 ],
 "metadata": {
  "language_info": {
   "name": "python"
  }
 },
 "nbformat": 4,
 "nbformat_minor": 2
}
